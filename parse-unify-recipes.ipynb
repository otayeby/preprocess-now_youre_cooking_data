{
 "cells": [
  {
   "cell_type": "markdown",
   "metadata": {
    "collapsed": true
   },
   "source": [
    "Libraries"
   ]
  },
  {
   "cell_type": "code",
   "execution_count": 1,
   "metadata": {},
   "outputs": [],
   "source": [
    "import json, os, glob\n",
    "cwd = os.getcwd()"
   ]
  },
  {
   "cell_type": "markdown",
   "metadata": {},
   "source": [
    "Get the file names of under the clean directories of train, test and dev"
   ]
  },
  {
   "cell_type": "code",
   "execution_count": 2,
   "metadata": {},
   "outputs": [],
   "source": [
    "# Set the root recipe path to the You're cooking data folder\n",
    "root_recipe_path = cwd + '/data/now_youre_cooking_data/'\n",
    "# Set the array for holding the different paths to the recipes\n",
    "recipe_path_arr = []\n",
    "# Iterate over the files and folders of the root recipe path\n",
    "for root, dirs, files in os.walk(root_recipe_path):\n",
    "\t# Get all files in the clean folder\n",
    "\tif len(dirs) == 0 and 'clean' in root:\n",
    "\t\t# Store the file names in a variable\n",
    "\t\trecipe_path_fns = glob.glob(root + '/*')\n",
    "\t\t# Append it to the array\n",
    "\t\trecipe_path_arr.append(recipe_path_fns)\n",
    "# Flatten the array and remove the Icon files\n",
    "recipe_path_arr = [item for sublist in recipe_path_arr for item in sublist if not 'Icon' in item]"
   ]
  },
  {
   "cell_type": "markdown",
   "metadata": {},
   "source": [
    "Unify all recipes in all of the files into one dict"
   ]
  },
  {
   "cell_type": "code",
   "execution_count": 3,
   "metadata": {},
   "outputs": [
    {
     "name": "stdout",
     "output_type": "stream",
     "text": [
      "('Number of recipes in all files:', 145908)\n"
     ]
    }
   ],
   "source": [
    "# Set the indexes, counters and dictionaries\n",
    "recipe_idx = 0\n",
    "recipe_dict = {}\n",
    "recipe_dict[recipe_idx] = {}\n",
    "\n",
    "# Iterate over the recipe paths\n",
    "for recipe_fp in recipe_path_arr:\n",
    "\twith open(recipe_fp, 'rU') as recipe_fo:\n",
    "\t\tnum_lines = 0\n",
    "\t\tsteps = []\n",
    "\t\t# Iterate over the recipe paths\n",
    "\t\tfor row in recipe_fo:\n",
    "\t\t\t# print(row)\n",
    "\t\t\trow = row.lower()\n",
    "\t\t\t# Get the title\n",
    "\t\t\tif 'title:' in row:\n",
    "\t\t\t\ttitle = row.replace('title: ', '').strip()\n",
    "\t\t\t\t# print('title', title)\n",
    "\t\t\t\trecipe_dict[recipe_idx]['title'] = title\n",
    "\t\t\t# Get the ingredients\n",
    "\t\t\telif 'ingredients:' in row:\n",
    "\t\t\t\tingredients = row.replace('ingredients:', '').strip()#.split('\\t')\n",
    "\t\t\t\t# print('ingredients', ingredients)\n",
    "\t\t\t\trecipe_dict[recipe_idx]['ingredients'] = ingredients\n",
    "\t\t\t# Get the categories\n",
    "\t\t\telif 'categories:' in row:\n",
    "\t\t\t\tcategories = row.replace('categories:\t', '').strip().split('\\t')\n",
    "\t\t\t\t# print('categories', categories)\n",
    "\t\t\t\trecipe_dict[recipe_idx]['categories'] = categories\n",
    "\t\t\t# Get the number of servings\n",
    "\t\t\telif 'servings:' in row:\n",
    "\t\t\t\tservings = row.replace('servings:', '').replace(' servings', '').strip()\n",
    "\t\t\t\t# print('servings', servings)\n",
    "\t\t\t\trecipe_dict[recipe_idx]['servings'] = servings\n",
    "\t\t\t# Print the steps after appending them per recipe\n",
    "\t\t\telif 'end recipe' in row:\n",
    "\t\t\t\t# print('steps', steps)\n",
    "\t\t\t\trecipe_dict[recipe_idx]['steps'] = steps\n",
    "\t\t\t\tsteps = []\n",
    "\t\t\t\trecipe_idx += 1\n",
    "\t\t\t\trecipe_dict[recipe_idx] = {}\n",
    "\t\t\t# Append the steps per recipe\n",
    "\t\t\telse:\n",
    "\t\t\t\t# steps.append(row.strip())\n",
    "\t\t\t\tsteps.append(row.strip())\n",
    "\t\t\tnum_lines += 1\n",
    "print('Number of recipes in all files:', len(recipe_dict))"
   ]
  },
  {
   "cell_type": "markdown",
   "metadata": {},
   "source": [
    "Save the dictionary into a JSON"
   ]
  },
  {
   "cell_type": "code",
   "execution_count": 4,
   "metadata": {},
   "outputs": [],
   "source": [
    "recipe_json_fn = cwd + '/data/clean-recipes/recipes.json'\n",
    "with open(recipe_json_fn, 'w') as fp:\n",
    "    json.dump(recipe_dict, fp)"
   ]
  },
  {
   "cell_type": "code",
   "execution_count": null,
   "metadata": {},
   "outputs": [],
   "source": []
  }
 ],
 "metadata": {
  "kernelspec": {
   "display_name": "Python 2",
   "language": "python",
   "name": "python2"
  },
  "language_info": {
   "codemirror_mode": {
    "name": "ipython",
    "version": 2
   },
   "file_extension": ".py",
   "mimetype": "text/x-python",
   "name": "python",
   "nbconvert_exporter": "python",
   "pygments_lexer": "ipython2",
   "version": "2.7.6"
  }
 },
 "nbformat": 4,
 "nbformat_minor": 0
}
