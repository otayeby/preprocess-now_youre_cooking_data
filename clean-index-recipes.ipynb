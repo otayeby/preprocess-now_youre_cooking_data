{
 "cells": [
  {
   "cell_type": "markdown",
   "metadata": {
    "collapsed": true
   },
   "source": [
    "Libraries"
   ]
  },
  {
   "cell_type": "code",
   "execution_count": 1,
   "metadata": {
    "collapsed": true
   },
   "outputs": [],
   "source": [
    "import json, os, pandas as pd, re, copy, csv\n",
    "from collections import defaultdict\n",
    "cwd = os.getcwd()"
   ]
  },
  {
   "cell_type": "markdown",
   "metadata": {},
   "source": [
    "Get the list of words that needs to be deleted before processing"
   ]
  },
  {
   "cell_type": "code",
   "execution_count": 2,
   "metadata": {},
   "outputs": [],
   "source": [
    "remove_ingredient_before_fn = cwd + '/preprocess-now_youre_cooking_data/ingredient-lists/remove-ingredient-before.csv'\n",
    "remove_ingredient_before_list = list(pd.read_csv(remove_ingredient_before_fn, header=None)[0])"
   ]
  },
  {
   "cell_type": "markdown",
   "metadata": {},
   "source": [
    "Cleanup the recipes"
   ]
  },
  {
   "cell_type": "code",
   "execution_count": 3,
   "metadata": {},
   "outputs": [],
   "source": [
    "recipe_json_fn = cwd + '/data/preprocessed-recipes/recipes.json'\n",
    "with open(recipe_json_fn, 'r') as fp:\n",
    "    recipe_dict = json.load(fp)\n",
    "recipe_dict = {int(key): recipe_dict[key] for key in recipe_dict}"
   ]
  },
  {
   "cell_type": "code",
   "execution_count": 4,
   "metadata": {},
   "outputs": [],
   "source": [
    "# clean_ingredients\n",
    "def clean_ingredients(ingredient_items_str):\n",
    "\t# Remove the word 'Ingredients: ', any unicode, and strip newlines and spaces from both ends\n",
    "\titems = ingredient_items_str.strip()\n",
    "\t# items = ingredient_items_str.decode('unicode_escape').encode('ascii', 'ignore').strip()\n",
    "\t# Remove words listed in the remove-ingredient-before.csv using boundary search\n",
    "\tfor each_ingredient in remove_ingredient_before_list:\n",
    "\t\titems = re.sub(r\"\\b\" + re.escape(each_ingredient) + r\"\\b\", '', items)\n",
    "\t# Replace the -LRB-, -RRB-, -LSB- and -RSB- with paranthases\n",
    "\titems = items.replace('-LRB-', '(').replace('-RRB-', ')')\n",
    "\titems = items.replace('-LSB-', '(').replace('-RSB-', ')')\n",
    "\t# Remove empty parenthases, and keep it as a bi-gram and replace the underscore with space to save them as uni-grams\n",
    "\titems = items.replace('(  )', '').replace('_', ' ')\n",
    "\t# Split the recipe into individual items (for both uni and bi-grams)\n",
    "\titem_arr = items.split('\t')\n",
    "\t# Create an array that will hold the clean ingredients\n",
    "\tclean_ingredient_items_arr = []\n",
    "\t# Iterate over the items of the recipe\n",
    "\tfor each_item in item_arr:\n",
    "\t\t# If the item ends with semicolumn then exclude it, and no need to keep track of its index\n",
    "\t\tif each_item.endswith(':'):\n",
    "\t\t\tcontinue\n",
    "\t\t# If the item has the following conditions (completion of prev item), then exclude it, and no need to keep track of its index\n",
    "\t\tif each_item.startswith('(') or each_item.startswith('-') or (each_item.endswith(')') and not('(' in each_item)):\n",
    "\t\t\tcontinue\n",
    "\t\t# Preserve the item before the next cleaning part, so we can save it if it's a strange item\n",
    "\t\teach_item_b4_strip = each_item\n",
    "\t\t# Strip spaces and commas from both ends, and extra spaces in the middle\n",
    "\t\teach_item = each_item.strip(' ').strip(',').strip(' ').strip(',')\n",
    "\t\teach_item = re.sub(r' +', ' ', each_item)\n",
    "\t\tif not re.search('[a-zA-Z]', each_item):\n",
    "\t\t\tstrange_items_list.append(each_item_b4_strip)\n",
    "\t\t\tcontinue\n",
    "\t\t# Append the items to the clean_ingredient_items_arr\n",
    "\t\tclean_ingredient_items_arr.append(each_item)\n",
    "\treturn clean_ingredient_items_arr\n",
    "# end clean_ingredients\n"
   ]
  },
  {
   "cell_type": "markdown",
   "metadata": {},
   "source": [
    "Cleanup the ingredients"
   ]
  },
  {
   "cell_type": "code",
   "execution_count": 5,
   "metadata": {},
   "outputs": [
    {
     "name": "stdout",
     "output_type": "stream",
     "text": [
      "('Clean recipes dict:', 145907)\n('Number of strange items:', 6078)\n"
     ]
    }
   ],
   "source": [
    "# Set the list of strange items\n",
    "strange_items_list = []\n",
    "# Copy to a new dict which would store the cleaned ingredients\n",
    "clean_recipe_dict = copy.deepcopy(recipe_dict)\n",
    "# Recipe index list that don't have ingredients\n",
    "recipe_no_ing_list = []\n",
    "# Iterate over the recipe dictionary\n",
    "for each_recipe in clean_recipe_dict.keys():\n",
    "\tif 'ingredients' in clean_recipe_dict[each_recipe]:\n",
    "\t\tclean_recipe_dict[each_recipe]['ingredients'] = clean_ingredients(clean_recipe_dict[each_recipe]['ingredients'])\n",
    "\telse:\n",
    "\t\tclean_recipe_dict.pop(each_recipe, None)\n",
    "print('Clean recipes dict:', len(clean_recipe_dict))\n",
    "print('Number of strange items:', len(strange_items_list))"
   ]
  },
  {
   "cell_type": "markdown",
   "metadata": {},
   "source": [
    "Indexing for ingredient-phrase-tagger tool"
   ]
  },
  {
   "cell_type": "code",
   "execution_count": 6,
   "metadata": {},
   "outputs": [
    {
     "name": "stdout",
     "output_type": "stream",
     "text": [
      "Check if both dicts recipe_item_map and clean_recipe_dict are equal in length\n('Number of items in recipe_item_map:', 141528)\n('Number of recipes in clean_recipe_dict:', 141528)\n"
     ]
    }
   ],
   "source": [
    "# Set least number of ingredients that should be in a recipe\n",
    "least_num_items = 3\n",
    "# Set item index and the item map\n",
    "item_idx = 0\n",
    "recipe_item_map = defaultdict(list)\n",
    "# Ingredients list\n",
    "ingredients_list = []\n",
    "# Sort keys of the clean_recipe_dict\n",
    "sorted_clean_recipe_keys = sorted(clean_recipe_dict.keys())\n",
    "# Iterate over the recipe dictionary\n",
    "for recipe_idx in sorted_clean_recipe_keys:\n",
    "\tif len(clean_recipe_dict[recipe_idx]['ingredients']) < least_num_items:\n",
    "\t\tclean_recipe_dict.pop(recipe_idx, None)\n",
    "\t\tcontinue\n",
    "\t# Iterate over the ingredients of the recipe\n",
    "\tfor each_ingredient in clean_recipe_dict[recipe_idx]['ingredients']:\n",
    "\t\t# Append to the list of all ingredients (in order)\n",
    "\t\tingredients_list.append(each_ingredient)\n",
    "\t\t# Append the item index to the recipe index list\n",
    "\t\trecipe_item_map[recipe_idx].append(item_idx)\n",
    "\t\t# Increment the ingredient index\n",
    "\t\titem_idx += 1\n",
    "print('Check if both dicts recipe_item_map and clean_recipe_dict are equal in length')\n",
    "print('Number of items in recipe_item_map:', len(recipe_item_map))\n",
    "print('Number of recipes in clean_recipe_dict:', len(clean_recipe_dict))"
   ]
  },
  {
   "cell_type": "code",
   "execution_count": 7,
   "metadata": {},
   "outputs": [
    {
     "name": "stdout",
     "output_type": "stream",
     "text": [
      "('Number of unmatching_indexes:', 0)\n('unmatching_indexes:', [])\n"
     ]
    }
   ],
   "source": [
    "# Check for unmatching indexes for the recipe_item_map and clean_recipe_dict\n",
    "unmatching_indexes = []\n",
    "for each_item, each_recipe in zip(recipe_item_map, clean_recipe_dict):\n",
    "\tif each_item != each_recipe:\n",
    "\t\tunmatching_indexes.append((each_item, each_recipe))\n",
    "print('Number of unmatching_indexes:', len(unmatching_indexes))\n",
    "print('unmatching_indexes:', unmatching_indexes)"
   ]
  },
  {
   "cell_type": "markdown",
   "metadata": {},
   "source": [
    "Inspect if there are any ingredients in the ingredients_list not in order with respect to clean_recipe_dict"
   ]
  },
  {
   "cell_type": "code",
   "execution_count": 8,
   "metadata": {},
   "outputs": [],
   "source": [
    "# Iterate over the clean_recipe_dict\n",
    "for inspect_idx in clean_recipe_dict:\n",
    "\t# Get the min and max indexes of the recipe indexed by inspect_idx in recipe_item_map\n",
    "\tmin_ing_idx, max_ing_idx = min(recipe_item_map[inspect_idx]), max(recipe_item_map[inspect_idx])\n",
    "\t# Check if there are any mismatches in the two lists \n",
    "\t# clean_recipe_dict[inspect_idx]['ingredients'] and ingredients_list[min_ing_idx:max_ing_idx]\n",
    "\tfor each_clean_ing, each_ing_list in zip(clean_recipe_dict[inspect_idx]['ingredients'], ingredients_list[min_ing_idx:max_ing_idx]):\n",
    "\t\tif each_clean_ing != each_ing_list:\n",
    "\t\t\tprint('The mismatch was found in', inspect_idx)"
   ]
  },
  {
   "cell_type": "markdown",
   "metadata": {},
   "source": [
    "Store the clean_recipes, recipe_item_map and ingredients_list"
   ]
  },
  {
   "cell_type": "code",
   "execution_count": 9,
   "metadata": {},
   "outputs": [],
   "source": [
    "# Store the clean_recipe_dict\n",
    "clean_recipe_fn = cwd + '/data/preprocessed-recipes/clean_recipes.json'\n",
    "with open(clean_recipe_fn, 'w') as fp:\n",
    "    json.dump(clean_recipe_dict, fp)\n",
    "# Store the recipe_item_map\n",
    "recipe_item_map_fn = cwd + '/data/preprocessed-recipes/recipe_item_map.json'\n",
    "with open(recipe_item_map_fn, 'w') as fp:\n",
    "    json.dump(recipe_item_map, fp)\n",
    "# Store the ingredients_list in a CSV file, which will be processed by the ingredient phrase tagger\n",
    "ingredients_list_fn = cwd + '/data/preprocessed-recipes/ingredients_list.csv'\n",
    "# Make up an impossible separator, since we don't want double quotations when there are commas or any preassumed types of separators\n",
    "pd.DataFrame(ingredients_list).to_csv(ingredients_list_fn, header=False, index=False, sep='~')"
   ]
  },
  {
   "cell_type": "code",
   "execution_count": null,
   "metadata": {},
   "outputs": [],
   "source": []
  }
 ],
 "metadata": {
  "kernelspec": {
   "display_name": "Python 2",
   "language": "python",
   "name": "python2"
  },
  "language_info": {
   "codemirror_mode": {
    "name": "ipython",
    "version": 2
   },
   "file_extension": ".py",
   "mimetype": "text/x-python",
   "name": "python",
   "nbconvert_exporter": "python",
   "pygments_lexer": "ipython2",
   "version": "2.7.6"
  }
 },
 "nbformat": 4,
 "nbformat_minor": 0
}
