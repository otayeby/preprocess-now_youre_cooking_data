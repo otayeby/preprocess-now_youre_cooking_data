{
 "cells": [
  {
   "cell_type": "markdown",
   "metadata": {
    "collapsed": true
   },
   "source": [
    "Libraries"
   ]
  },
  {
   "cell_type": "code",
   "execution_count": 1,
   "metadata": {
    "collapsed": true
   },
   "outputs": [],
   "source": [
    "import json, os, pandas as pd, re, copy\n",
    "cwd = os.getcwd()"
   ]
  },
  {
   "cell_type": "markdown",
   "metadata": {},
   "source": [
    "Get the list of words that needs to be deleted before processing"
   ]
  },
  {
   "cell_type": "code",
   "execution_count": 11,
   "metadata": {},
   "outputs": [],
   "source": [
    "remove_ingredient_before_fn = cwd + '/preprocess-now_youre_cooking_data/ingredient-lists/remove-ingredient-before.csv'\n",
    "remove_ingredient_before_list = list(pd.read_csv(remove_ingredient_before_fn, header=None)[0])"
   ]
  },
  {
   "cell_type": "markdown",
   "metadata": {},
   "source": [
    "Cleanup the recipes"
   ]
  },
  {
   "cell_type": "code",
   "execution_count": 4,
   "metadata": {},
   "outputs": [],
   "source": [
    "recipe_json_fn = cwd + '/data/clean-recipes/recipes.json'\n",
    "with open(recipe_json_fn, 'r') as fp:\n",
    "    recipe_dict = json.load(fp)"
   ]
  },
  {
   "cell_type": "code",
   "execution_count": 5,
   "metadata": {},
   "outputs": [
    {
     "data": {
      "text/plain": [
       "{u'categories': [u'cake/cookie', u'dessert', u'muffin'],\n u'ingredients': u'1 c  oil\\t1 t  baking soda\\t1 c  sugar\\t1 t  salt\\t1 c  brown sugar\\t1 t  baking powder\\t1 t  vanilla\\t2 t  cinnamon\\t4 x  eggs\\t3 c  carrots; shredded\\t2 c  flour, whole wheat\\t1 c  walnuts; chopped\\t1/3 c  dry milk',\n u'servings': u'12',\n u'steps': [u'in large bowl , blend oil and sugars on low until well mixed .',\n  u'add vanilla .',\n  u'beat in eggs , one at a time , blending well after each addition .',\n  u'stir together dry ingredients and add to egg mixture until well blended .',\n  u'stir in walnuts and carrots by hand .',\n  u\"pour batter into well greased and floured 10 '' tube pan or fluted pan .\",\n  u'bake at 350f for 50-60 minutes .',\n  u'cool in pan , then top with powdered sugar or frosting of your choice .'],\n u'title': u'carrot cake'}"
      ]
     },
     "execution_count": 5,
     "metadata": {},
     "output_type": "execute_result"
    }
   ],
   "source": [
    "# print(len(recipe_dict))\n",
    "recipe_dict['0']"
   ]
  },
  {
   "cell_type": "code",
   "execution_count": 6,
   "metadata": {},
   "outputs": [],
   "source": [
    "# clean_ingredients\n",
    "def clean_ingredients(ingredient_items_str):\n",
    "\t# print(ingredient_items_str)\n",
    "\t# Remove the word 'Ingredients: ', any unicode, and strip newlines and spaces from both ends\n",
    "\titems = ingredient_items_str.strip()\n",
    "\t# items = ingredient_items_str.decode('unicode_escape').encode('ascii', 'ignore').strip()\n",
    "\t# Remove words listed in the remove-ingredient-before.csv using boundary search\n",
    "\tfor each_ingredient in remove_ingredient_before_list:\n",
    "\t\titems = re.sub(r\"\\b\" + re.escape(each_ingredient) + r\"\\b\", '', items)\n",
    "\t# Replace the -LRB-, -RRB-, -LSB- and -RSB- with paranthases\n",
    "\titems = items.replace('-LRB-', '(').replace('-RRB-', ')')\n",
    "\titems = items.replace('-LSB-', '(').replace('-RSB-', ')')\n",
    "\t# Remove empty parenthases, and keep it as a bi-gram and replace the underscore with space to save them as uni-grams\n",
    "\titems = items.replace('(  )', '').replace('_', ' ')\n",
    "\t# Split the recipe into individual items (for both uni and bi-grams)\n",
    "\titem_arr = items.split('\t')\n",
    "\t# # Get the number of items\n",
    "\t# num_items = len(item_arr)\n",
    "\t# # If the number of items in the recipe is less than the least_num_items, ignore this recipe and continue to the next one (however, increment the index)\n",
    "\t# if num_items < least_num_ingredients:\n",
    "\t# \treturn None\n",
    "\tclean_ingredient_items_arr = []\n",
    "\t# Iterate over the items of the recipe\n",
    "\tfor each_item in item_arr:\n",
    "\t\t# If the item ends with semicolumn then exclude it, and no need to keep track of its index\n",
    "\t\tif each_item.endswith(':'):\n",
    "\t\t\tcontinue\n",
    "\t\t# If the item has the following conditions (completion of prev item), then exclude it, and no need to keep track of its index\n",
    "\t\tif each_item.startswith('(') or each_item.startswith('-') or (each_item.endswith(')') and not('(' in each_item)):\n",
    "\t\t\tcontinue\n",
    "\t\t# Preserve the item before the next cleaning part, so we can save it if it's a strange item\n",
    "\t\teach_item_b4_strip = each_item\n",
    "\t\t# Strip spaces and commas from both ends, and extra spaces in the middle\n",
    "\t\teach_item = each_item.strip(' ').strip(',').strip(' ').strip(',')\n",
    "\t\teach_item = re.sub(r' +', ' ', each_item)\n",
    "\t\tif not re.search('[a-zA-Z]', each_item):\n",
    "\t\t\tstrange_items_list.append(each_item_b4_strip)\n",
    "\t\t\tcontinue\n",
    "\t\t# Append the items to the \n",
    "\t\tclean_ingredient_items_arr.append(each_item)\n",
    "\t# # Get the number of clean items\n",
    "\t# num_clean_items = len(clean_ingredient_items_arr)\n",
    "\t# # If the number of clean items in the recipe is less than the least_num_items,\n",
    "\t# # ignore this recipe and continue to the next one (however, increment the index)\n",
    "\t# if num_clean_items < least_num_ingredients:\n",
    "\t# \treturn None\n",
    "\treturn clean_ingredient_items_arr\n",
    "# end clean_ingredients"
   ]
  },
  {
   "cell_type": "markdown",
   "metadata": {},
   "source": [
    "Cleanup the ingredients"
   ]
  },
  {
   "cell_type": "code",
   "execution_count": 14,
   "metadata": {},
   "outputs": [],
   "source": [
    "# Set least number of ingredients that should be in a recipe\n",
    "least_num_ingredients = 2\n",
    "# Set the list of strange items\n",
    "strange_items_list = []\n",
    "# Copy to a new dict which would store the cleaned ingredients\n",
    "clean_recipe_dict = copy.deepcopy(recipe_dict)\n",
    "# Iterate over the recipe dictionary\n",
    "for each_recipe in clean_recipe_dict:\n",
    "\tif 'ingredients' in clean_recipe_dict[each_recipe]:\n",
    "\t\tclean_recipe_dict[each_recipe]['ingredients'] = clean_ingredients(clean_recipe_dict[each_recipe]['ingredients'])\n",
    "# print('Number of strange items:', len(strange_items_list))\n",
    "print('Clean recipes dict:', len(clean_recipe_dict))\n",
    "print('Number of strange items:', len(strange_items_list))"
   ]
  },
  {
   "cell_type": "markdown",
   "metadata": {},
   "source": [
    "Indexing for ingredient-phrase-tagger tool"
   ]
  },
  {
   "cell_type": "code",
   "execution_count": 13,
   "metadata": {},
   "outputs": [],
   "source": [
    ""
   ]
  }
 ],
 "metadata": {
  "kernelspec": {
   "display_name": "Python 2",
   "language": "python",
   "name": "python2"
  },
  "language_info": {
   "codemirror_mode": {
    "name": "ipython",
    "version": 2
   },
   "file_extension": ".py",
   "mimetype": "text/x-python",
   "name": "python",
   "nbconvert_exporter": "python",
   "pygments_lexer": "ipython2",
   "version": "2.7.6"
  }
 },
 "nbformat": 4,
 "nbformat_minor": 0
}
