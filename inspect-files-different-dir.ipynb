{
 "cells": [
  {
   "cell_type": "markdown",
   "metadata": {
    "collapsed": true
   },
   "source": [
    "Libraries"
   ]
  },
  {
   "cell_type": "code",
   "execution_count": 1,
   "metadata": {},
   "outputs": [],
   "source": [
    "import json, csv, os, glob, time, pandas as pd, re\n",
    "from collections import defaultdict\n",
    "cwd = os.getcwd()"
   ]
  },
  {
   "cell_type": "markdown",
   "metadata": {},
   "source": [
    "Get the list of words that needs to be deleted before processing"
   ]
  },
  {
   "cell_type": "code",
   "execution_count": 2,
   "metadata": {},
   "outputs": [],
   "source": [
    "remove_ingredient_before_fn = cwd + '/ingredient-phrase-tagger-master/results/remove-ingredient-before.csv'\n",
    "remove_ingredient_before_list = list(pd.read_csv(remove_ingredient_before_fn, header=None)[0])\n",
    "# remove_ingredient_before_list"
   ]
  },
  {
   "cell_type": "markdown",
   "metadata": {},
   "source": [
    "Cleanup and unify all files into one JSON file"
   ]
  },
  {
   "cell_type": "code",
   "execution_count": 3,
   "metadata": {},
   "outputs": [
    {
     "name": "stdout",
     "output_type": "stream",
     "text": [
      "Number of training files: 166\n"
     ]
    }
   ],
   "source": [
    "# Set dir path to the cooking data\n",
    "recipe_path = cwd + '/data/now_youre_cooking_data/train/precisetag/'\n",
    "\n",
    "# Get the list of all recipe files\n",
    "recipe_fn_arr = list(glob.glob(recipe_path + '*.mmf'))\n",
    "recipe_fn_arr += list(glob.glob(recipe_path + '*.MMF'))\n",
    "recipe_fn_arr += list(glob.glob(recipe_path + '*.txt'))\n",
    "recipe_fn_arr += list(glob.glob(recipe_path + '*.TXT'))\n",
    "print 'Number of training files:', len(recipe_fn_arr)\n",
    "\n",
    "# Iterate over the file names\n",
    "recipe_fn_set = set([recipe_fp.split('/')[-1] for recipe_fp in recipe_fn_arr])\n"
   ]
  },
  {
   "cell_type": "code",
   "execution_count": 9,
   "metadata": {},
   "outputs": [
    {
     "name": "stdout",
     "output_type": "stream",
     "text": [
      "('root', '/Volumes/GoogleDrive/My Drive/Live/PQE/Omar/data/now_youre_cooking_data/train/precisetag')\n('root', '/Volumes/GoogleDrive/My Drive/Live/PQE/Omar/data/now_youre_cooking_data/train/clean')\n('Number of current recipe files', 166)\n('Number of previous recipe files', 166)\n('Number of intersecting recipes files', 166)\n('root', '/Volumes/GoogleDrive/My Drive/Live/PQE/Omar/data/now_youre_cooking_data/test/precisetag')\n('Number of current recipe files', 166)\n('Number of previous recipe files', 166)\n('Number of intersecting recipes files', 166)\n('Number of current recipe files', 166)\n('Number of previous recipe files', 166)\n('Number of intersecting recipes files', 166)\n('root', '/Volumes/GoogleDrive/My Drive/Live/PQE/Omar/data/now_youre_cooking_data/test/clean')\n('Number of current recipe files', 166)\n('Number of previous recipe files', 166)\n('Number of intersecting recipes files', 166)\n('Number of current recipe files', 166)\n('Number of previous recipe files', 166)\n('Number of intersecting recipes files', 166)\n('Number of current recipe files', 166)\n('Number of previous recipe files', 166)\n('Number of intersecting recipes files', 166)\n('root', '/Volumes/GoogleDrive/My Drive/Live/PQE/Omar/data/now_youre_cooking_data/dev/clean')\n('Number of current recipe files', 166)\n('Number of previous recipe files', 166)\n('Number of intersecting recipes files', 166)\n('Number of current recipe files', 166)\n('Number of previous recipe files', 166)\n('Number of intersecting recipes files', 166)\n('Number of current recipe files', 166)\n('Number of previous recipe files', 166)\n('Number of intersecting recipes files', 166)\n('Number of current recipe files', 166)\n('Number of previous recipe files', 166)\n('Number of intersecting recipes files', 166)\n('root', '/Volumes/GoogleDrive/My Drive/Live/PQE/Omar/data/now_youre_cooking_data/dev/precisetag')\n('Number of current recipe files', 166)\n('Number of previous recipe files', 166)\n('Number of intersecting recipes files', 166)\n('Number of current recipe files', 166)\n('Number of previous recipe files', 166)\n('Number of intersecting recipes files', 166)\n('Number of current recipe files', 166)\n('Number of previous recipe files', 166)\n('Number of intersecting recipes files', 166)\n('Number of current recipe files', 166)\n('Number of previous recipe files', 166)\n('Number of intersecting recipes files', 166)\n('Number of current recipe files', 166)\n('Number of previous recipe files', 166)\n('Number of intersecting recipes files', 166)\n"
     ]
    }
   ],
   "source": [
    "# Set the root recipe path to the You're cooking data folder\n",
    "root_recipe_path = cwd + '/data/now_youre_cooking_data/'\n",
    "# Set the array for holding the different paths to the recipes\n",
    "recipe_path_arr = []\n",
    "# Iterate over the files and folders of the root recipe path\n",
    "for root, dirs, files in os.walk(root_recipe_path):\n",
    "\t# If there are no further directories inside this one then parse the files\n",
    "\tif len(dirs) == 0:\n",
    "\t\tprint('root', root)\n",
    "\t\t# Get the set of files in this dir\n",
    "\t\trecipe_fn_set = set(files)\n",
    "\t\t# Remove the Icon Mac file\n",
    "\t\trecipe_fn_set.remove('Icon\\r')\n",
    "\t\t# print('Number of recipe_path:', len(recipe_path_arr))\n",
    "\t\tfor each_recipe_path in recipe_path_arr:\n",
    "\t\t\tprint('Number of current recipe files', len(recipe_fn_set))\n",
    "\t\t\tprint('Number of previous recipe files', len(each_recipe_path))\n",
    "\t\t  \tprint('Number of intersecting recipes files', len(recipe_fn_set & each_recipe_path))\n",
    "\t\t\t# print(each_recipe_path)\n",
    "\t\trecipe_path_arr.append(recipe_fn_set)\n",
    "# recipe_path_arr"
   ]
  },
  {
   "cell_type": "code",
   "execution_count": null,
   "metadata": {},
   "outputs": [],
   "source": []
  }
 ],
 "metadata": {
  "kernelspec": {
   "display_name": "Python 2",
   "language": "python",
   "name": "python2"
  },
  "language_info": {
   "codemirror_mode": {
    "name": "ipython",
    "version": 2
   },
   "file_extension": ".py",
   "mimetype": "text/x-python",
   "name": "python",
   "nbconvert_exporter": "python",
   "pygments_lexer": "ipython2",
   "version": "2.7.6"
  }
 },
 "nbformat": 4,
 "nbformat_minor": 0
}
